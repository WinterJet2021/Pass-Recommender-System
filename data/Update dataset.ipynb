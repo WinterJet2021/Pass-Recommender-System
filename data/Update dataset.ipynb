{
 "cells": [
  {
   "cell_type": "code",
   "execution_count": 1,
   "metadata": {},
   "outputs": [],
   "source": [
    "import pandas as pd\n",
    "import random"
   ]
  },
  {
   "cell_type": "code",
   "execution_count": 2,
   "metadata": {},
   "outputs": [],
   "source": [
    "num_users = 50\n",
    "user_ids = list(range(1, num_users + 1))"
   ]
  },
  {
   "cell_type": "code",
   "execution_count": 3,
   "metadata": {},
   "outputs": [],
   "source": [
    "thai_locations = [\n",
    "    \"Bangkok\", \"Chiang Mai\", \"Phuket\", \"Pattaya\", \"Khon Kaen\", \"Hat Yai\", \n",
    "    \"Udon Thani\", \"Nakhon Ratchasima\", \"Surat Thani\", \"Rayong\", \"Samut Prakan\",\n",
    "    \"Nakhon Si Thammarat\", \"Ayutthaya\", \"Chonburi\", \"Lampang\", \"Ratchaburi\"\n",
    "]"
   ]
  },
  {
   "cell_type": "code",
   "execution_count": 4,
   "metadata": {},
   "outputs": [],
   "source": [
    "nationalities_languages_fixed = {\n",
    "    \"USA\": \"English\", \"UK\": \"English\", \"Germany\": \"German\",\n",
    "    \"France\": \"French\", \"Russia\": \"Russian\", \"Australia\": \"English\",\n",
    "    \"Canada\": \"English\", \"Netherlands\": \"Dutch\", \"Spain\": \"Spanish\",\n",
    "    \"Sweden\": \"Swedish\", \"India\": \"Hindi\", \"China\": \"Mandarin\",\n",
    "    \"Japan\": \"Japanese\", \"South Korea\": \"Korean\", \"Brazil\": \"Portuguese\",\n",
    "    \"Thai\": \"Thai\"\n",
    "}"
   ]
  },
  {
   "cell_type": "code",
   "execution_count": 5,
   "metadata": {},
   "outputs": [],
   "source": [
    "possible_languages = [\"English\", \"French\", \"Spanish\", \"German\", \"Mandarin\",\n",
    "                      \"Hindi\", \"Japanese\", \"Korean\", \"Dutch\", \"Russian\",\n",
    "                      \"Portuguese\", \"Swedish\", \"Thai\"]"
   ]
  },
  {
   "cell_type": "code",
   "execution_count": 6,
   "metadata": {},
   "outputs": [],
   "source": [
    "def generate_nationality_and_languages():\n",
    "    nationality = random.choice(list(nationalities_languages_fixed.keys()))\n",
    "    first_language = nationalities_languages_fixed[nationality]\n",
    "    \n",
    "    # Select 0 to 2 additional languages excluding the first language\n",
    "    additional_languages = random.sample(\n",
    "        [lang for lang in possible_languages if lang != first_language], \n",
    "        random.randint(0, 2)\n",
    "    )\n",
    "    \n",
    "    # Combine first language with additional ones\n",
    "    languages_spoken = [first_language] + additional_languages\n",
    "    return nationality, \", \".join(languages_spoken)"
   ]
  },
  {
   "cell_type": "code",
   "execution_count": 7,
   "metadata": {},
   "outputs": [],
   "source": [
    "genders = [\"Male\", \"Female\"]"
   ]
  },
  {
   "cell_type": "code",
   "execution_count": 8,
   "metadata": {},
   "outputs": [],
   "source": [
    "activities = [\"Basketball\", \"Yoga\", \"Hiking\", \"Cycling\", \"Gym\", \"Swimming\", \"Dancing\", \"Running\", \"Music\", \"Photography\"]\n",
    "activity_data = {activity: [random.randint(1, 5) for _ in range(num_users)] for activity in activities}"
   ]
  },
  {
   "cell_type": "code",
   "execution_count": 9,
   "metadata": {},
   "outputs": [],
   "source": [
    "days_of_week = [\"Mon\", \"Tue\", \"Wed\", \"Thu\", \"Fri\", \"Sat\", \"Sun\"]\n",
    "availability = [\", \".join(random.sample(days_of_week, random.randint(2, 5))) for _ in range(num_users)]"
   ]
  },
  {
   "cell_type": "code",
   "execution_count": 10,
   "metadata": {},
   "outputs": [],
   "source": [
    "user_scores = [round(random.uniform(1, 10), 1) for _ in range(num_users)]"
   ]
  },
  {
   "cell_type": "code",
   "execution_count": 11,
   "metadata": {},
   "outputs": [],
   "source": [
    "locations = [random.choice(thai_locations) for _ in range(num_users)]\n",
    "nationalities_languages = [generate_nationality_and_languages() for _ in range(num_users)]\n",
    "nationalities, languages_spoken = zip(*nationalities_languages)\n",
    "genders_selected = [random.choice(genders) for _ in range(num_users)]"
   ]
  },
  {
   "cell_type": "code",
   "execution_count": 12,
   "metadata": {},
   "outputs": [],
   "source": [
    "df_large = pd.DataFrame({\n",
    "    \"User_ID\": user_ids,\n",
    "    **activity_data,\n",
    "    \"Availability\": availability,\n",
    "    \"User Score\": user_scores,\n",
    "    \"Location\": locations,\n",
    "    \"Nationality\": nationalities,\n",
    "    \"Languages Spoken\": languages_spoken,\n",
    "    \"Gender\": genders_selected\n",
    "})"
   ]
  },
  {
   "cell_type": "code",
   "execution_count": 13,
   "metadata": {},
   "outputs": [
    {
     "name": "stdout",
     "output_type": "stream",
     "text": [
      "Dataset generated successfully! File saved as: user_interests_50_dataset.csv\n"
     ]
    }
   ],
   "source": [
    "file_name = \"user_interests_50_dataset.csv\"\n",
    "df_large.to_csv(file_name, index=False)\n",
    "\n",
    "print(f\"Dataset generated successfully! File saved as: {file_name}\")"
   ]
  }
 ],
 "metadata": {
  "kernelspec": {
   "display_name": "venv",
   "language": "python",
   "name": "python3"
  },
  "language_info": {
   "codemirror_mode": {
    "name": "ipython",
    "version": 3
   },
   "file_extension": ".py",
   "mimetype": "text/x-python",
   "name": "python",
   "nbconvert_exporter": "python",
   "pygments_lexer": "ipython3",
   "version": "3.12.6"
  }
 },
 "nbformat": 4,
 "nbformat_minor": 2
}
